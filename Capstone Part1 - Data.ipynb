{
 "cells": [
  {
   "cell_type": "markdown",
   "metadata": {},
   "source": [
    "**2.1 Data Sources**    \n",
    "Two mandatory data sources and one optional source are required to build the desired model:\n",
    "\n",
    "1. Neighbourhood names and geodata:\n",
    "To create an overview over the start destination and the possible destination targets, the information will be extracted from Wikipedia with the webscraping tool \"BeautifulSoup\". This will also facilitate the extraction of geodata for each neighbourhood. The geodata of latitude and longitude will be extracted with the geolocation tool \"Nominatim\" to extract precise locations for each neighbourhood.\n",
    "\n",
    "2. Venue information:\n",
    "Based on the data aquired in point 1 the 20 most common venues will be extracted from the Foursquare API for all defined destinations. Based on this data the comparison algorithm will be constructed to determine the similarity between the start and the possible target locations.\n",
    "\n",
    "3. Rent information (optional):\n",
    "Additionally, the average rent values could be extracted to enrich the model. This would depend on the availability of suchd ata for all destinations.\n"
   ]
  },
  {
   "cell_type": "code",
   "execution_count": null,
   "metadata": {},
   "outputs": [],
   "source": []
  }
 ],
 "metadata": {
  "kernelspec": {
   "display_name": "Python 3",
   "language": "python",
   "name": "python3"
  },
  "language_info": {
   "codemirror_mode": {
    "name": "ipython",
    "version": 3
   },
   "file_extension": ".py",
   "mimetype": "text/x-python",
   "name": "python",
   "nbconvert_exporter": "python",
   "pygments_lexer": "ipython3",
   "version": "3.8.5"
  }
 },
 "nbformat": 4,
 "nbformat_minor": 4
}
