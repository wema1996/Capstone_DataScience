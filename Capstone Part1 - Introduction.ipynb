{
 "cells": [
  {
   "cell_type": "markdown",
   "metadata": {},
   "source": [
    "# Capstone Part1: Introduction"
   ]
  },
  {
   "cell_type": "markdown",
   "metadata": {},
   "source": [
    "**This notebook contains the introduction to the capstone project and serves as a blueprint for the final report**"
   ]
  },
  {
   "cell_type": "markdown",
   "metadata": {},
   "source": [
    "**1.1 Background**    \n",
    "International mobility is becoming a more and more common occurence among young professionals. Widespread adoption of English as lingua franca, facilitated international mobility and increasing interest in a diverse workforce lead many aspiring talents to move outside their home country and settle in a variety of new places. While companies have already introduced data-driven business models to address the specific needs of these people on a global scale, such as Airbnb, Craigslsit and others, people interested to move still have to rely on word-to-mouth and cumbersome internet research. While they are interested to move they still want to make sure their standards of daily life and the offer of leisure activities stayon a somewhat similar level than their current neighborhoods."
   ]
  },
  {
   "cell_type": "markdown",
   "metadata": {},
   "source": [
    "**1.2 Problem to address**    \n",
    "The following paper will tackle the issue young professionals face to secure a similar life standard, while moving to other places. For that, an exemplary case of a person currently living in Berlin's neighbourhood of \"Friedrichshain-Kreuzberg\" that wants to move to Manhattan is introduced. By creating a clustering model, the current neighborhood will be compared to the neighbourhoods in Manhattan to find the ones with the highest similarity. This model could then be further developed to address any start and target destination, if the exemplary model yields satisfactory results."
   ]
  },
  {
   "cell_type": "code",
   "execution_count": null,
   "metadata": {},
   "outputs": [],
   "source": []
  }
 ],
 "metadata": {
  "kernelspec": {
   "display_name": "Python 3",
   "language": "python",
   "name": "python3"
  },
  "language_info": {
   "codemirror_mode": {
    "name": "ipython",
    "version": 3
   },
   "file_extension": ".py",
   "mimetype": "text/x-python",
   "name": "python",
   "nbconvert_exporter": "python",
   "pygments_lexer": "ipython3",
   "version": "3.8.5"
  }
 },
 "nbformat": 4,
 "nbformat_minor": 4
}
